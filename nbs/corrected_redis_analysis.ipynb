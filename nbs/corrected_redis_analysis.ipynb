{
  "cells": [
    {
      "cell_type": "raw",
      "metadata": {
        "vscode": {
          "languageId": "raw"
        }
      },
      "source": [
        "# ✅ CORRECTED: Course Creator Data Storage Analysis\n",
        "\n",
        "## Issue Identified\n",
        "The original analysis expected `stage_data:user_id:course_id:stage` keys in Redis, but the system actually uses:\n",
        "\n",
        "1. **Redis**: Course metadata + task tracking\n",
        "2. **Filesystem**: Stage data in pickle files\n",
        "\n",
        "## Actual Data Storage Pattern\n",
        "\n",
        "### Redis Structure\n",
        "- `user_courses:user_id` → Set of course IDs for each user\n",
        "- `course:course_id` → Course metadata (JSON)\n",
        "- `generation_task:course_id` → Task tracking (JSON)\n",
        "- `celery-task-meta-*` → Celery task results\n",
        "\n",
        "### Filesystem Structure\n",
        "- `data/user_id/course_id/` → Course directory\n",
        "- `*.pkl` files → Stage results (pickled Python objects)\n",
        "- `cache/` → Cloned repository data\n",
        "- `generated/` → Final course content\n"
      ]
    },
    {
      "cell_type": "raw",
      "metadata": {
        "vscode": {
          "languageId": "raw"
        }
      },
      "source": [
        "# Redis Data Organization in Course Creator\n",
        "\n",
        "This notebook explores how data is organized in Redis with the hierarchy:\n",
        "**User → Course → Stages**\n",
        "\n",
        "## Redis Key Structure Overview\n",
        "\n",
        "```\n",
        "User Level:\n",
        "├── user_data:{user_id}                    # User profile/settings\n",
        "├── user_courses:{user_id}                 # List of user's courses\n",
        "\n",
        "Course Level (per user):\n",
        "├── course_data:{user_id}:{course_id}      # Course metadata\n",
        "├── course_tasks:{user_id}:{course_id}     # Active tasks for this course\n",
        "\n",
        "Stage Level (per course):\n",
        "├── stage_data:{user_id}:{course_id}:clone_repo          # Stage 1 data\n",
        "├── stage_data:{user_id}:{course_id}:document_analysis   # Stage 2 data  \n",
        "├── stage_data:{user_id}:{course_id}:pathway_building    # Stage 3 data\n",
        "├── stage_data:{user_id}:{course_id}:course_generation   # Stage 4 data\n",
        "\n",
        "Celery Tasks:\n",
        "├── celery-task-meta-{task_id}            # Task status and results\n",
        "```\n"
      ]
    }
  ],
  "metadata": {
    "kernelspec": {
      "display_name": "base",
      "language": "python",
      "name": "python3"
    },
    "language_info": {
      "codemirror_mode": {
        "name": "ipython",
        "version": 3
      },
      "file_extension": ".py",
      "mimetype": "text/x-python",
      "name": "python",
      "nbconvert_exporter": "python",
      "pygments_lexer": "ipython3",
      "version": "3.11.11"
    }
  },
  "nbformat": 4,
  "nbformat_minor": 2
}
