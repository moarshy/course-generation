{
 "cells": [
  {
   "cell_type": "code",
   "execution_count": 1,
   "id": "5e203af4",
   "metadata": {},
   "outputs": [],
   "source": [
    "import sys\n",
    "sys.path.append('/Users/arshath/play/naptha/course-creator/backend')\n",
    "import pickle"
   ]
  },
  {
   "cell_type": "code",
   "execution_count": 2,
   "id": "7abf6bf1",
   "metadata": {},
   "outputs": [],
   "source": [
    "with open('/Users/arshath/play/naptha/course-creator/data/google-oauth2_111962411139153579092/5b9d3631-4ad3-4a46-9251-9c9c5614a514/pathway_building_paths.pkl', 'rb') as f:\n",
    "    data = pickle.load(f)"
   ]
  },
  {
   "cell_type": "code",
   "execution_count": 14,
   "id": "1f7edcc0",
   "metadata": {},
   "outputs": [],
   "source": [
    "import redis"
   ]
  },
  {
   "cell_type": "code",
   "execution_count": 15,
   "id": "77858597",
   "metadata": {},
   "outputs": [],
   "source": [
    "redis_client = redis.Redis(\n",
    "    host='localhost',\n",
    "    port=6379,\n",
    "    decode_responses=True\n",
    ")"
   ]
  },
  {
   "cell_type": "code",
   "execution_count": 16,
   "id": "e8b61c09",
   "metadata": {},
   "outputs": [],
   "source": [
    "# get all users\n",
    "redis_client.get('course:*')"
   ]
  },
  {
   "cell_type": "code",
   "execution_count": 17,
   "id": "9454ecae",
   "metadata": {},
   "outputs": [
    {
     "data": {
      "text/plain": [
       "['user:google-oauth2|111962411139153579092',\n",
       " 'generation_task:bb269891-2c2f-4692-9514-f190c31e96dc',\n",
       " 'celery-task-meta-f6e32d29-5006-440e-80ea-ed8362e053c8',\n",
       " 'generation_task:6258eb32-e060-4eba-a472-250de9cbb1c7',\n",
       " 'generation_task:ad17e498-7842-4189-9edc-9a3a3dac2713',\n",
       " 'generation_task:ec682a8c-b985-4f37-8876-ef142042ca5f',\n",
       " 'generation_task:5b9d3631-4ad3-4a46-9251-9c9c5614a514',\n",
       " 'generation_task:fe798429-fc70-471d-801f-310df72bbe93',\n",
       " 'generation_task:cc656bd3-ea69-4120-bc91-adb77e4213c7',\n",
       " 'generation_task:f3577417-58b0-4f75-b826-7bc26b7d1c25',\n",
       " 'stage1_result:3e189aa5-7b70-4956-bccf-99b90f4e5bdb',\n",
       " 'generation_task:9e3b0bf7-7a46-47fc-8180-4e972a0cc9c7',\n",
       " 'generation_task:db50030b-dbcf-4517-a63b-3601dec54de4',\n",
       " 'generation_task:4742076e-8f3d-4d4d-8d72-bf2473c6d1af',\n",
       " 'celery-task-meta-c0e4745c-7c1e-47a1-846e-9fda17b8b313',\n",
       " 'generation_task:b77b6418-7e81-4ab5-aedb-bd5266e2ba74',\n",
       " 'generation_task:f69abe6d-970b-491b-a94f-5a360fa5da5d',\n",
       " 'generation_task:a97018c5-3695-440f-9212-ecb91aacff8f',\n",
       " 'celery-task-meta-35fde604-87ac-4312-9285-76645f9a13c4',\n",
       " 'generation_task:1e01831f-c5b4-484c-9321-c61fd5787bf8',\n",
       " 'generation_task:d7af5f59-d93c-4c5b-94ce-fec3ef4ede87',\n",
       " 'generation_task:f9430d04-5732-418f-baaa-69eb2ebaa5c0',\n",
       " 'generation_task:cce62360-ed31-4cf1-8203-0cc42c2c5c40',\n",
       " 'generation_task:56f79232-d32c-4ea6-94c8-90e1ca17400d',\n",
       " 'celery-task-meta-09445022-03b1-4839-89f9-b1eabf9eded2',\n",
       " 'generation_task:fbd11284-221b-467c-b8a2-dd4d0a7741c1',\n",
       " 'celery-task-meta-370c305a-e502-4719-85ad-1df6d2271fce',\n",
       " 'generation_task:a9eeaa2d-59ad-486b-a44c-9e0c735231e0',\n",
       " 'generation_task:5bd1238d-6812-442f-96d2-6e3d495d5599',\n",
       " 'course:bb38eeb2-5958-479f-88bf-a399c2c4541a',\n",
       " 'celery-task-meta-bf5ae4ee-69b3-4e1b-b100-026815f5d42f',\n",
       " 'celery-task-meta-0fa3986e-d750-4494-8ca2-36af372b0ab8',\n",
       " 'generation_task:09035cc6-5f2f-43b7-8157-f51c61976402',\n",
       " 'generation_task:39eb01ca-443d-4bb5-b0bc-668dfe4fdc32',\n",
       " 'generation_task:35c824ed-0bba-4956-9289-2553fd5e8c2f',\n",
       " 'celery-task-meta-7e8a9a5c-cc92-45bf-adf7-93307919bd5b',\n",
       " 'celery-task-meta-5a01d1cb-bfd1-461e-949c-e5ca92a3ca26',\n",
       " 'celery-task-meta-8c3690e7-486e-4043-a895-ba9d206c08ec',\n",
       " 'generation_task:0f7e3fca-5b31-4f4f-a370-6980aadfec5e',\n",
       " '_kombu.binding.celery',\n",
       " 'generation_task:6ec8b402-98ae-486e-b149-e5b27f1ca554',\n",
       " 'generation_task:3915ed01-16fe-4fb4-97d1-43437ff4eacf',\n",
       " 'generation_task:14dc1c0e-5dfa-45f5-aef6-275d4774ac05',\n",
       " 'celery-task-meta-eb8b00af-07ad-4a18-b769-2e2ec94a8140',\n",
       " 'celery-task-meta-27dcab3a-040d-4147-80ea-8d32188ab444',\n",
       " 'generation_task:bb38eeb2-5958-479f-88bf-a399c2c4541a',\n",
       " 'generation_task:66dd1bc4-028e-433c-b26a-e17199ad8b3e',\n",
       " 'generation_task:0010f582-9062-4515-abca-463ba8540b2f',\n",
       " 'generation_task:a3ff83ed-4205-433a-b0af-e532a6bac4e3',\n",
       " 'generation_task:4519137f-c5aa-4d6c-9f8d-3e3454e63274',\n",
       " 'generation_task:7739295c-d8b8-4757-b521-4f5ad4c87d00',\n",
       " 'celery-task-meta-d3403a48-2e25-49f9-94d3-12a8c90dc4d0',\n",
       " 'generation_task:4a4cb2c1-cb97-41c6-b418-59b6662840fa',\n",
       " 'generation_task:b75af09f-f081-4266-b47f-1c539e1484bb',\n",
       " 'generation_task:16f4543c-d80a-4d0d-8252-152cb294e36d',\n",
       " 'generation_task:20a4a345-5e2d-4e3c-a06e-2973830340fd',\n",
       " '_kombu.binding.celeryev',\n",
       " 'celery-task-meta-1d9980af-7fbf-47e9-a880-f58db223a437',\n",
       " 'celery-task-meta-ddbad214-5459-43d2-8be3-f71679061f0a',\n",
       " 'generation_task:583e2d16-d806-4817-9ea5-8a97d8bb9f90',\n",
       " 'stage1_result:39eb01ca-443d-4bb5-b0bc-668dfe4fdc32',\n",
       " 'generation_task:bd703cd5-2e19-4afe-b275-db87b9c5b4df',\n",
       " 'user_courses:google-oauth2|111962411139153579092',\n",
       " 'celery-task-meta-2071bb85-5a62-4e32-978a-6bd758b37cb8',\n",
       " 'generation_task:7cabdabc-6488-449b-a07d-c878cc306c1b',\n",
       " 'generation_task:7dc45039-87cc-4d06-b35b-a3afb8f53c49',\n",
       " 'generation_task:e5bbbb72-d2be-4506-a8a5-1ae4d1e70eef',\n",
       " 'generation_task:e314bd78-bced-4a39-8ab4-53d858275307',\n",
       " 'generation_task:d21e6673-3e62-47bd-8d6c-f90d7c834f5c',\n",
       " 'generation_task:504c418e-5e22-4d95-b7af-beaa746a485d',\n",
       " 'celery-task-meta-acda6a8f-2d3e-4f59-b778-0aef7c499b3c',\n",
       " 'generation_task:cd3ccda1-9718-4a9c-9348-50aec87ca3bc',\n",
       " 'generation_task:7ad60038-cc11-4e71-aaf1-add853979cbb',\n",
       " 'generation_task:b8706593-5502-49af-a96a-73b773e97075',\n",
       " 'generation_task:ea099c14-ad5a-4a87-b455-711546dcdcbb',\n",
       " 'generation_task:eac3cee2-ec4c-4370-bdfe-f458ebaef10e',\n",
       " 'user_email:marshath@gmail.com',\n",
       " 'generation_task:df52894f-6d20-4632-8bf3-4925034e20f4',\n",
       " 'generation_task:b7d2a852-f9cf-4ee6-a8fd-2ae57802d0c6',\n",
       " 'generation_task:a6889c69-16b8-4dec-8695-2fb13c225168',\n",
       " 'celery-task-meta-781e5dcf-fcee-40b7-af45-6835a4451bbe',\n",
       " 'celery-task-meta-95b601aa-9f72-433d-a9d9-5df05e6de174',\n",
       " 'generation_task:184219d5-3f7f-45ed-95d6-7dcae3450063',\n",
       " 'generation_task:6d990ab1-2cc3-479a-be7c-1f373d46ee9b',\n",
       " 'generation_task:aad0b010-1001-4288-b297-a6b09e06dc5a',\n",
       " 'generation_task:77149e08-5cf5-4d7c-8c23-9db74b7171bb',\n",
       " 'celery-task-meta-4261b904-7ae9-4f0d-a1c6-fd839c9de16f',\n",
       " 'generation_task:3e189aa5-7b70-4956-bccf-99b90f4e5bdb',\n",
       " 'generation_task:cb468f1b-cbf2-454e-afb5-7b71ddd6ec99',\n",
       " '_kombu.binding.celery.pidbox',\n",
       " 'generation_task:9e2c653e-734e-4d7d-b1be-ffa1efae4408']"
      ]
     },
     "execution_count": 17,
     "metadata": {},
     "output_type": "execute_result"
    }
   ],
   "source": [
    "all_keys = redis_client.keys('*')\n",
    "all_keys"
   ]
  },
  {
   "cell_type": "code",
   "execution_count": 10,
   "id": "5ffe3498",
   "metadata": {},
   "outputs": [
    {
     "data": {
      "text/plain": [
       "['user:google-oauth2|111962411139153579092']"
      ]
     },
     "execution_count": 10,
     "metadata": {},
     "output_type": "execute_result"
    }
   ],
   "source": [
    "user_keys = redis_client.keys('user:*')\n",
    "user_keys"
   ]
  },
  {
   "cell_type": "code",
   "execution_count": 19,
   "id": "33b60ce6",
   "metadata": {},
   "outputs": [
    {
     "data": {
      "text/plain": [
       "['course:bb38eeb2-5958-479f-88bf-a399c2c4541a']"
      ]
     },
     "execution_count": 19,
     "metadata": {},
     "output_type": "execute_result"
    }
   ],
   "source": [
    "redis_client.keys('course:*')"
   ]
  },
  {
   "cell_type": "code",
   "execution_count": null,
   "id": "bb336ded",
   "metadata": {},
   "outputs": [],
   "source": []
  }
 ],
 "metadata": {
  "kernelspec": {
   "display_name": "base",
   "language": "python",
   "name": "python3"
  },
  "language_info": {
   "codemirror_mode": {
    "name": "ipython",
    "version": 3
   },
   "file_extension": ".py",
   "mimetype": "text/x-python",
   "name": "python",
   "nbconvert_exporter": "python",
   "pygments_lexer": "ipython3",
   "version": "3.11.11"
  }
 },
 "nbformat": 4,
 "nbformat_minor": 5
}
