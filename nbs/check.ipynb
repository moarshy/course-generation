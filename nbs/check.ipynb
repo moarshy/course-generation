{
 "cells": [
  {
   "cell_type": "code",
   "execution_count": 1,
   "id": "5e203af4",
   "metadata": {},
   "outputs": [],
   "source": [
    "import sys\n",
    "sys.path.append('/Users/arshath/play/naptha/course-creator/backend')\n",
    "import pickle\n",
    "import redis"
   ]
  },
  {
   "cell_type": "code",
   "execution_count": 2,
   "id": "7abf6bf1",
   "metadata": {},
   "outputs": [],
   "source": [
    "with open('/Users/arshath/play/naptha/course-generation/data/google-oauth2_111962411139153579092/1f17e9c6-bb5f-47ee-a849-56ecd8c8a20a/pathway_building.pkl', 'rb') as f:\n",
    "    data = pickle.load(f)"
   ]
  },
  {
   "cell_type": "code",
   "execution_count": 3,
   "id": "4d93f751",
   "metadata": {},
   "outputs": [
    {
     "data": {
      "text/plain": [
       "dict_keys(['stage2_result', 'learning_paths', 'target_complexity', 'debate_history', 'additional_instructions', 'total_modules', 'metadata', 'pathway_timestamp'])"
      ]
     },
     "execution_count": 3,
     "metadata": {},
     "output_type": "execute_result"
    }
   ],
   "source": [
    "data.model_dump().keys()"
   ]
  },
  {
   "cell_type": "code",
   "execution_count": 4,
   "id": "e5f106f8",
   "metadata": {},
   "outputs": [
    {
     "data": {
      "text/plain": [
       "[{'path_id': 'mcp_beginner_path_v1',\n",
       "  'title': 'Getting Started with Model Context Protocol (MCP)',\n",
       "  'description': 'A beginner-friendly introduction to the Model Context Protocol (MCP), covering its core architecture, fundamental primitives, and how to set up basic client and server applications.',\n",
       "  'target_complexity': <ComplexityLevel.BEGINNER: 'beginner'>,\n",
       "  'modules': [{'module_id': 'module_01_introduction_to_model_context_protocol_(mcp)',\n",
       "    'title': 'Introduction to Model Context Protocol (MCP)',\n",
       "    'description': 'This module introduces the Model Context Protocol (MCP), explaining its core purpose and the fundamental client-server architecture. It will cover the roles of hosts, clients, and servers, and provide a high-level understanding of how communication is structured within MCP.',\n",
       "    'documents': ['.cache/modelcontextprotocol_docs_9b06b34c6341a02b233055dc593dd641/docs/concepts/architecture.mdx'],\n",
       "    'learning_objectives': ['Define Model Context Protocol (MCP) and its purpose in LLM applications.',\n",
       "     'Identify the core components of MCP: Hosts, Clients, and Servers, and describe their basic roles.',\n",
       "     'Explain the high-level function of the protocol and transport layers in MCP communication.']},\n",
       "   {'module_id': 'module_02_mcp_primitives:_tools,_resources,_and_prompts',\n",
       "    'title': 'MCP Primitives: Tools, Resources, and Prompts',\n",
       "    'description': 'This module introduces the three core primitives of MCP: Tools, Resources, and Prompts. It will define each primitive and explain its basic purpose in enabling LLMs to interact with external systems, access data, and standardize interactions.',\n",
       "    'documents': ['/Users/arshath/play/naptha/course-generation/data/.cache/modelcontextprotocol_docs_9b06b34c6341a02b233055dc593dd641/docs/concepts/tools.mdx',\n",
       "     '/Users/arshath/play/naptha/course-generation/data/.cache/modelcontextprotocol_docs_9b06b34c6341a02b233055dc593dd641/docs/concepts/resources.mdx',\n",
       "     '/Users/arshath/play/naptha/course-generation/data/.cache/modelcontextprotocol_docs_9b06b34c6341a02b233055dc593dd641/docs/concepts/prompts.mdx'],\n",
       "    'learning_objectives': [\"Define 'Tools' in MCP and explain their role in enabling LLMs to perform actions.\",\n",
       "     \"Define 'Resources' in MCP and explain their role in exposing server data to LLMs.\",\n",
       "     \"Define 'Prompts' in MCP and explain their role in standardizing LLM interactions.\",\n",
       "     'Differentiate between application-controlled (Resources) and model-controlled (Tools) primitives at a high level.']},\n",
       "   {'module_id': 'module_03_building_your_first_mcp_server',\n",
       "    'title': 'Building Your First MCP Server',\n",
       "    'description': 'This module guides you through the initial steps of setting up and running a basic MCP server. You will learn how to use the standard input/output (stdio) transport for local communication and perform basic verification to ensure your server is operational.',\n",
       "    'documents': ['/Users/arshath/play/naptha/course-generation/data/.cache/modelcontextprotocol_docs_9b06b34c6341a02b233055dc593dd641/docs/concepts/architecture.mdx',\n",
       "     '/Users/arshath/play/naptha/course-generation/data/.cache/modelcontextprotocol_docs_9b06b34c6341a02b233055dc593dd641/docs/concepts/transports.mdx',\n",
       "     '/Users/arshath/play/naptha/course-generation/data/.cache/modelcontextprotocol_docs_9b06b34c6341a02b233055dc593dd641/docs/tools/debugging.mdx',\n",
       "     '/Users/arshath/play/naptha/course-generation/data/.cache/modelcontextprotocol_docs_9b06b34c6341a02b233055dc593dd641/docs/tools/inspector.mdx'],\n",
       "    'learning_objectives': ['Outline the basic steps to set up and run a simple MCP server.',\n",
       "     'Explain how to use stdio transport for local server communication.',\n",
       "     'Perform basic verification of a running MCP server using logs or the Inspector tool.']},\n",
       "   {'module_id': 'module_04_connecting_with_your_first_mcp_client',\n",
       "    'title': 'Connecting with Your First MCP Client',\n",
       "    'description': 'This module focuses on the client side of MCP, demonstrating how to set up and connect a basic MCP client. You will learn how a client initiates communication and mediates interactions, including high-level requests to LLMs.',\n",
       "    'documents': ['/Users/arshath/play/naptha/course-generation/data/.cache/modelcontextprotocol_docs_9b06b34c6341a02b233055dc593dd641/docs/concepts/architecture.mdx',\n",
       "     '/Users/arshath/play/naptha/course-generation/data/.cache/modelcontextprotocol_docs_9b06b34c6341a02b233055dc593dd641/docs/concepts/transports.mdx',\n",
       "     '/Users/arshath/play/naptha/course-generation/data/.cache/modelcontextprotocol_docs_9b06b34c6341a02b233055dc593dd641/docs/concepts/sampling.mdx'],\n",
       "    'learning_objectives': ['Outline the basic steps to set up and connect a simple MCP client.',\n",
       "     'Explain how a client can initiate a basic interaction with an MCP server.',\n",
       "     'Describe the high-level role of the client in mediating LLM requests within the MCP framework.']}]}]"
      ]
     },
     "execution_count": 4,
     "metadata": {},
     "output_type": "execute_result"
    }
   ],
   "source": [
    "data.model_dump()['learning_paths']"
   ]
  },
  {
   "cell_type": "code",
   "execution_count": null,
   "id": "1f7edcc0",
   "metadata": {},
   "outputs": [],
   "source": [
    "import redis"
   ]
  },
  {
   "cell_type": "code",
   "execution_count": null,
   "id": "cc2527e1",
   "metadata": {},
   "outputs": [],
   "source": [
    "import redis"
   ]
  },
  {
   "cell_type": "code",
   "execution_count": null,
   "id": "4ccb5b9f",
   "metadata": {},
   "outputs": [],
   "source": [
    "import redis"
   ]
  },
  {
   "cell_type": "code",
   "execution_count": null,
   "id": "f47c75db",
   "metadata": {},
   "outputs": [],
   "source": [
    "import redis"
   ]
  },
  {
   "cell_type": "code",
   "execution_count": null,
   "id": "25c300d2",
   "metadata": {},
   "outputs": [],
   "source": [
    "import redis"
   ]
  },
  {
   "cell_type": "code",
   "execution_count": null,
   "id": "da39a26d",
   "metadata": {},
   "outputs": [],
   "source": [
    "import redis"
   ]
  },
  {
   "cell_type": "code",
   "execution_count": null,
   "id": "94732270",
   "metadata": {},
   "outputs": [],
   "source": [
    "import redis"
   ]
  },
  {
   "cell_type": "code",
   "execution_count": null,
   "id": "7b0812af",
   "metadata": {},
   "outputs": [],
   "source": [
    "import redis"
   ]
  },
  {
   "cell_type": "code",
   "execution_count": null,
   "id": "d4200ced",
   "metadata": {},
   "outputs": [],
   "source": [
    "import redis"
   ]
  },
  {
   "cell_type": "code",
   "execution_count": null,
   "id": "4b77c678",
   "metadata": {},
   "outputs": [],
   "source": [
    "import redis"
   ]
  },
  {
   "cell_type": "code",
   "execution_count": null,
   "id": "77858597",
   "metadata": {},
   "outputs": [],
   "source": [
    "redis_client = redis.Redis(\n",
    "    host='localhost',\n",
    "    port=6379,\n",
    "    decode_responses=True\n",
    ")"
   ]
  },
  {
   "cell_type": "code",
   "execution_count": null,
   "id": "e8b61c09",
   "metadata": {},
   "outputs": [],
   "source": [
    "# get all users\n",
    "redis_client.get('course:*')"
   ]
  },
  {
   "cell_type": "code",
   "execution_count": null,
   "id": "9454ecae",
   "metadata": {},
   "outputs": [],
   "source": [
    "all_keys = redis_client.keys('*')\n",
    "all_keys"
   ]
  },
  {
   "cell_type": "code",
   "execution_count": null,
   "id": "5ffe3498",
   "metadata": {},
   "outputs": [],
   "source": [
    "user_keys = redis_client.keys('user:*')\n",
    "user_keys"
   ]
  },
  {
   "cell_type": "code",
   "execution_count": null,
   "id": "33b60ce6",
   "metadata": {},
   "outputs": [],
   "source": [
    "redis_client.keys('course:*')"
   ]
  },
  {
   "cell_type": "code",
   "execution_count": null,
   "id": "bb336ded",
   "metadata": {},
   "outputs": [],
   "source": []
  }
 ],
 "metadata": {
  "kernelspec": {
   "display_name": "base",
   "language": "python",
   "name": "python3"
  },
  "language_info": {
   "codemirror_mode": {
    "name": "ipython",
    "version": 3
   },
   "file_extension": ".py",
   "mimetype": "text/x-python",
   "name": "python",
   "nbconvert_exporter": "python",
   "pygments_lexer": "ipython3",
   "version": "3.11.11"
  }
 },
 "nbformat": 4,
 "nbformat_minor": 5
}
