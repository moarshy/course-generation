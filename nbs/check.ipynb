{
 "cells": [
  {
   "cell_type": "code",
   "execution_count": 1,
   "id": "5e203af4",
   "metadata": {},
   "outputs": [],
   "source": [
    "import sys\n",
    "sys.path.append('/Users/arshath/play/naptha/course-creator/backend')\n",
    "import pickle"
   ]
  },
  {
   "cell_type": "code",
   "execution_count": 2,
   "id": "7abf6bf1",
   "metadata": {},
   "outputs": [],
   "source": [
    "with open('/Users/arshath/play/naptha/course-creator/data/google-oauth2_111962411139153579092/5b9d3631-4ad3-4a46-9251-9c9c5614a514/pathway_building_paths.pkl', 'rb') as f:\n",
    "    data = pickle.load(f)"
   ]
  },
  {
   "cell_type": "code",
   "execution_count": 3,
   "id": "6cab1779",
   "metadata": {},
   "outputs": [
    {
     "data": {
      "text/plain": [
       "{'title': \"Unlocking LLM Integration: A Beginner's Guide to the Model Context Protocol (MCP)\",\n",
       " 'description': \"Dive into the world of Large Language Model (LLM) integrations with this beginner-friendly course on the Model Context Protocol (MCP). Designed for those new to LLM application development or looking to understand the foundational communication layers, this path will demystify how LLM applications (Hosts) seamlessly interact with various services (Servers) to provide context, tools, and prompts. You'll start by grasping the core architectural concepts and fundamental principles of MCP, then learn how to expose context and functionality using MCP primitives. We'll cover essential techniques for enabling LLM interaction through sampling and equip you with practical debugging and troubleshooting skills for your MCP integrations. By the end of this course, you'll have a solid understanding of MCP's role in modern LLM ecosystems and be ready to build a strong foundation for your first integrated applications.\",\n",
       " 'target_complexity': <ComplexityLevel.BEGINNER: 'beginner'>,\n",
       " 'modules': [{'module_id': 'module_01',\n",
       "   'title': 'Understanding the Model Context Protocol (MCP) Fundamentals',\n",
       "   'description': \"This module introduces the Model Context Protocol (MCP), explaining its core client-server architecture and the fundamental communication mechanisms that enable LLM applications to interact with various integrations. You'll learn how clients, servers, and hosts work together, and the role of different transport layers.\",\n",
       "   'learning_objectives': ['Understand the overall client-server architecture of MCP.',\n",
       "    'Identify the roles of Hosts, Clients, and Servers within the MCP framework.',\n",
       "    'Comprehend the function of the protocol layer and transport layer in handling communication.',\n",
       "    'Learn about JSON-RPC as the message format used by MCP.',\n",
       "    'Understand the purpose and basic usage of stdio and Server-Sent Events (SSE) transports.'],\n",
       "   'linked_documents': ['docs/concepts/architecture.mdx',\n",
       "    'docs/concepts/transports.mdx'],\n",
       "   'theme': 'General',\n",
       "   'target_complexity': <ComplexityLevel.BEGINNER: 'beginner'>,\n",
       "   'content': None,\n",
       "   'assessment': {'assessment_id': 'module_01_assessment',\n",
       "    'title': 'Understanding the Model Context Protocol (MCP) Fundamentals Assessment',\n",
       "    'concepts_to_assess': ['understanding the model context protocol (mcp) fundamentals']}},\n",
       "  {'module_id': 'module_02',\n",
       "   'title': 'what is mcp',\n",
       "   'theme': 'General',\n",
       "   'description': 'what is mcp',\n",
       "   'learning_objectives': ['what is mcp', 'why is there a need for mcp'],\n",
       "   'linked_documents': ['docs/concepts/architecture.mdx'],\n",
       "   'target_complexity': <ComplexityLevel.BEGINNER: 'beginner'>,\n",
       "   'assessment': {'assessment_id': 'module_02_assessment',\n",
       "    'title': 'what is mcp Assessment',\n",
       "    'concepts_to_assess': ['general']}},\n",
       "  {'module_id': 'module_03',\n",
       "   'title': 'Exposing Context and Functionality with MCP Primitives',\n",
       "   'description': \"This module dives into the core primitives of MCP: Resources, Prompts, Tools, and Roots. You'll learn how servers use these to expose various types of data, define reusable LLM interactions, enable LLMs to perform actions, and establish operational boundaries for server operations.\",\n",
       "   'learning_objectives': ['Understand the purpose and role of Resources for exposing data and content to clients.',\n",
       "    'Learn how Prompts enable reusable LLM templates and workflows for standardized interactions.',\n",
       "    'Comprehend how Tools allow LLMs to perform actions and interact with external systems.',\n",
       "    'Explain what Roots are and how they define operational boundaries and guide servers to relevant resources.',\n",
       "    'Identify the key aspects of discovery and usage for each primitive (Resources, Prompts, Tools, Roots).'],\n",
       "   'linked_documents': ['docs/concepts/resources.mdx',\n",
       "    'docs/concepts/prompts.mdx',\n",
       "    'docs/concepts/tools.mdx',\n",
       "    'docs/concepts/roots.mdx'],\n",
       "   'theme': 'General',\n",
       "   'target_complexity': <ComplexityLevel.BEGINNER: 'beginner'>,\n",
       "   'content': None,\n",
       "   'assessment': {'assessment_id': 'module_03_assessment',\n",
       "    'title': 'Exposing Context and Functionality with MCP Primitives Assessment',\n",
       "    'concepts_to_assess': ['exposing context and functionality with mcp primitives']}},\n",
       "  {'module_id': 'module_04',\n",
       "   'title': 'Enabling LLM Interaction: Sampling',\n",
       "   'description': \"This module focuses on the Sampling feature, which allows MCP servers to securely request LLM completions through the client. You'll learn about the human-in-the-loop workflow for sampling and the various parameters for crafting effective sampling requests, including message history, model preferences, and context inclusion.\",\n",
       "   'learning_objectives': ['Understand the purpose and workflow of the MCP Sampling feature.',\n",
       "    'Identify the components and structure of a sampling request message.',\n",
       "    'Learn how to specify conversation history and content within a sampling request.',\n",
       "    'Understand how to set model preferences for LLM selection.',\n",
       "    'Know how to configure system prompts and context inclusion in sampling requests.'],\n",
       "   'linked_documents': ['docs/concepts/sampling.mdx'],\n",
       "   'theme': 'General',\n",
       "   'target_complexity': <ComplexityLevel.BEGINNER: 'beginner'>,\n",
       "   'content': None,\n",
       "   'assessment': {'assessment_id': 'module_04_assessment',\n",
       "    'title': 'Enabling LLM Interaction: Sampling Assessment',\n",
       "    'concepts_to_assess': ['enabling llm interaction: sampling']}},\n",
       "  {'module_id': 'module_05',\n",
       "   'title': 'Debugging and Troubleshooting MCP Integrations',\n",
       "   'description': \"This module provides practical guidance on debugging and troubleshooting MCP servers and integrations. You'll learn about essential debugging tools like MCP Inspector and Claude Desktop Developer Tools, along with common issues related to working directories and environment variables, and best practices for server logging.\",\n",
       "   'learning_objectives': ['Understand the various debugging tools available for MCP integrations.',\n",
       "    'Learn how to check MCP server status and view logs in Claude Desktop.',\n",
       "    'Be able to use Chrome DevTools within Claude Desktop for client-side debugging.',\n",
       "    'Identify and resolve common MCP integration issues related to working directories and environment variables.',\n",
       "    'Utilize the MCP Inspector for interactive testing and debugging of MCP servers.'],\n",
       "   'linked_documents': ['docs/tools/debugging.mdx',\n",
       "    'docs/tools/inspector.mdx'],\n",
       "   'theme': 'General',\n",
       "   'target_complexity': <ComplexityLevel.BEGINNER: 'beginner'>,\n",
       "   'content': None,\n",
       "   'assessment': {'assessment_id': 'module_05_assessment',\n",
       "    'title': 'Debugging and Troubleshooting MCP Integrations Assessment',\n",
       "    'concepts_to_assess': ['debugging and troubleshooting mcp integrations']}},\n",
       "  {'module_id': 'module_06',\n",
       "   'title': 'Conclusion and Next Steps',\n",
       "   'description': \"This module summarizes the key concepts learned throughout the course, reinforcing your understanding of the Model Context Protocol. It also provides guidance on where to go next for further learning and development, encouraging continued exploration of MCP's capabilities.\",\n",
       "   'learning_objectives': ['Review the core concepts of MCP, including its architecture, primitives, and interaction patterns.',\n",
       "    'Identify resources and pathways for continued learning and development with the Model Context Protocol.',\n",
       "    'Understand how to apply the learned concepts to build and integrate your own MCP servers and applications.'],\n",
       "   'linked_documents': [],\n",
       "   'theme': 'General',\n",
       "   'target_complexity': <ComplexityLevel.BEGINNER: 'beginner'>,\n",
       "   'content': None,\n",
       "   'assessment': {'assessment_id': 'module_06_assessment',\n",
       "    'title': 'Conclusion and Next Steps Assessment',\n",
       "    'concepts_to_assess': ['conclusion and next steps']}}],\n",
       " 'estimated_duration': '2-4 weeks',\n",
       " 'prerequisites': []}"
      ]
     },
     "execution_count": 3,
     "metadata": {},
     "output_type": "execute_result"
    }
   ],
   "source": [
    "data['paths'][0].model_dump()"
   ]
  },
  {
   "cell_type": "code",
   "execution_count": null,
   "id": "1f7edcc0",
   "metadata": {},
   "outputs": [],
   "source": []
  }
 ],
 "metadata": {
  "kernelspec": {
   "display_name": "base",
   "language": "python",
   "name": "python3"
  },
  "language_info": {
   "codemirror_mode": {
    "name": "ipython",
    "version": 3
   },
   "file_extension": ".py",
   "mimetype": "text/x-python",
   "name": "python",
   "nbconvert_exporter": "python",
   "pygments_lexer": "ipython3",
   "version": "3.11.11"
  }
 },
 "nbformat": 4,
 "nbformat_minor": 5
}
